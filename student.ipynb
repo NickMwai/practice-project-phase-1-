{
 "cells": [
  {
   "cell_type": "markdown",
   "metadata": {},
   "source": [
    "## Final Project Submission\n",
    "\n",
    "Please fill out:\n",
    "* Student name: NICK MWAI NDUHIU\n",
    "* Student pace:  part time \n",
    "* Scheduled project review date/time: 29TH APRIL 2025\n",
    "* Instructor name: MWIKALI MARYANNE\n",
    "* Blog post URL: \n"
   ]
  },
  {
   "cell_type": "markdown",
   "metadata": {},
   "source": [
    "# Project Overview\n"
   ]
  },
  {
   "cell_type": "markdown",
   "metadata": {},
   "source": [
    "Evaluating aviation data to determine which type of aircraft to purchase for a business venture\n"
   ]
  },
  {
   "cell_type": "markdown",
   "metadata": {},
   "source": [
    "## Introduction\n",
    "Transport by air is considered the fastest and safest mode of travel. This is due to advancement in technology and the high level of skillset required all round in the sector. Every little detail counts in the aviation space.We are going to identify low risk aircraft for commercial and private use to provide guidance on which make and or model to buy for this venture. Data for this exercise is provided by the National Transportation Safety Board which includes aviation accident data from 1962 to 2023 about civil aviation accidents and selected incidents in the United States and international waters.\n"
   ]
  },
  {
   "cell_type": "code",
   "execution_count": 89,
   "metadata": {},
   "outputs": [],
   "source": [
    "# importing relevant libraries\n",
    "import pandas as pd\n",
    "import numpy as np\n",
    "import matplotlib.pyplot as plt\n",
    "import seaborn as sns\n",
    "\n",
    "\n",
    "\n"
   ]
  },
  {
   "cell_type": "code",
   "execution_count": 90,
   "metadata": {},
   "outputs": [
    {
     "name": "stderr",
     "output_type": "stream",
     "text": [
      "c:\\Users\\Administrator\\anaconda3\\envs\\learn-env\\lib\\site-packages\\IPython\\core\\interactiveshell.py:3145: DtypeWarning: Columns (6,7,28) have mixed types.Specify dtype option on import or set low_memory=False.\n",
      "  has_raised = await self.run_ast_nodes(code_ast.body, cell_name,\n"
     ]
    },
    {
     "data": {
      "text/html": [
       "<div>\n",
       "<style scoped>\n",
       "    .dataframe tbody tr th:only-of-type {\n",
       "        vertical-align: middle;\n",
       "    }\n",
       "\n",
       "    .dataframe tbody tr th {\n",
       "        vertical-align: top;\n",
       "    }\n",
       "\n",
       "    .dataframe thead th {\n",
       "        text-align: right;\n",
       "    }\n",
       "</style>\n",
       "<table border=\"1\" class=\"dataframe\">\n",
       "  <thead>\n",
       "    <tr style=\"text-align: right;\">\n",
       "      <th></th>\n",
       "      <th>Event.Id</th>\n",
       "      <th>Investigation.Type</th>\n",
       "      <th>Accident.Number</th>\n",
       "      <th>Event.Date</th>\n",
       "      <th>Location</th>\n",
       "      <th>Country</th>\n",
       "      <th>Latitude</th>\n",
       "      <th>Longitude</th>\n",
       "      <th>Airport.Code</th>\n",
       "      <th>Airport.Name</th>\n",
       "      <th>...</th>\n",
       "      <th>Purpose.of.flight</th>\n",
       "      <th>Air.carrier</th>\n",
       "      <th>Total.Fatal.Injuries</th>\n",
       "      <th>Total.Serious.Injuries</th>\n",
       "      <th>Total.Minor.Injuries</th>\n",
       "      <th>Total.Uninjured</th>\n",
       "      <th>Weather.Condition</th>\n",
       "      <th>Broad.phase.of.flight</th>\n",
       "      <th>Report.Status</th>\n",
       "      <th>Publication.Date</th>\n",
       "    </tr>\n",
       "  </thead>\n",
       "  <tbody>\n",
       "    <tr>\n",
       "      <th>0</th>\n",
       "      <td>20001218X45444</td>\n",
       "      <td>Accident</td>\n",
       "      <td>SEA87LA080</td>\n",
       "      <td>1948-10-24</td>\n",
       "      <td>MOOSE CREEK, ID</td>\n",
       "      <td>United States</td>\n",
       "      <td>NaN</td>\n",
       "      <td>NaN</td>\n",
       "      <td>NaN</td>\n",
       "      <td>NaN</td>\n",
       "      <td>...</td>\n",
       "      <td>Personal</td>\n",
       "      <td>NaN</td>\n",
       "      <td>2.0</td>\n",
       "      <td>0.0</td>\n",
       "      <td>0.0</td>\n",
       "      <td>0.0</td>\n",
       "      <td>UNK</td>\n",
       "      <td>Cruise</td>\n",
       "      <td>Probable Cause</td>\n",
       "      <td>NaN</td>\n",
       "    </tr>\n",
       "    <tr>\n",
       "      <th>1</th>\n",
       "      <td>20001218X45447</td>\n",
       "      <td>Accident</td>\n",
       "      <td>LAX94LA336</td>\n",
       "      <td>1962-07-19</td>\n",
       "      <td>BRIDGEPORT, CA</td>\n",
       "      <td>United States</td>\n",
       "      <td>NaN</td>\n",
       "      <td>NaN</td>\n",
       "      <td>NaN</td>\n",
       "      <td>NaN</td>\n",
       "      <td>...</td>\n",
       "      <td>Personal</td>\n",
       "      <td>NaN</td>\n",
       "      <td>4.0</td>\n",
       "      <td>0.0</td>\n",
       "      <td>0.0</td>\n",
       "      <td>0.0</td>\n",
       "      <td>UNK</td>\n",
       "      <td>Unknown</td>\n",
       "      <td>Probable Cause</td>\n",
       "      <td>19-09-1996</td>\n",
       "    </tr>\n",
       "    <tr>\n",
       "      <th>2</th>\n",
       "      <td>20061025X01555</td>\n",
       "      <td>Accident</td>\n",
       "      <td>NYC07LA005</td>\n",
       "      <td>1974-08-30</td>\n",
       "      <td>Saltville, VA</td>\n",
       "      <td>United States</td>\n",
       "      <td>36.9222</td>\n",
       "      <td>-81.8781</td>\n",
       "      <td>NaN</td>\n",
       "      <td>NaN</td>\n",
       "      <td>...</td>\n",
       "      <td>Personal</td>\n",
       "      <td>NaN</td>\n",
       "      <td>3.0</td>\n",
       "      <td>NaN</td>\n",
       "      <td>NaN</td>\n",
       "      <td>NaN</td>\n",
       "      <td>IMC</td>\n",
       "      <td>Cruise</td>\n",
       "      <td>Probable Cause</td>\n",
       "      <td>26-02-2007</td>\n",
       "    </tr>\n",
       "    <tr>\n",
       "      <th>3</th>\n",
       "      <td>20001218X45448</td>\n",
       "      <td>Accident</td>\n",
       "      <td>LAX96LA321</td>\n",
       "      <td>1977-06-19</td>\n",
       "      <td>EUREKA, CA</td>\n",
       "      <td>United States</td>\n",
       "      <td>NaN</td>\n",
       "      <td>NaN</td>\n",
       "      <td>NaN</td>\n",
       "      <td>NaN</td>\n",
       "      <td>...</td>\n",
       "      <td>Personal</td>\n",
       "      <td>NaN</td>\n",
       "      <td>2.0</td>\n",
       "      <td>0.0</td>\n",
       "      <td>0.0</td>\n",
       "      <td>0.0</td>\n",
       "      <td>IMC</td>\n",
       "      <td>Cruise</td>\n",
       "      <td>Probable Cause</td>\n",
       "      <td>12-09-2000</td>\n",
       "    </tr>\n",
       "    <tr>\n",
       "      <th>4</th>\n",
       "      <td>20041105X01764</td>\n",
       "      <td>Accident</td>\n",
       "      <td>CHI79FA064</td>\n",
       "      <td>1979-08-02</td>\n",
       "      <td>Canton, OH</td>\n",
       "      <td>United States</td>\n",
       "      <td>NaN</td>\n",
       "      <td>NaN</td>\n",
       "      <td>NaN</td>\n",
       "      <td>NaN</td>\n",
       "      <td>...</td>\n",
       "      <td>Personal</td>\n",
       "      <td>NaN</td>\n",
       "      <td>1.0</td>\n",
       "      <td>2.0</td>\n",
       "      <td>NaN</td>\n",
       "      <td>0.0</td>\n",
       "      <td>VMC</td>\n",
       "      <td>Approach</td>\n",
       "      <td>Probable Cause</td>\n",
       "      <td>16-04-1980</td>\n",
       "    </tr>\n",
       "  </tbody>\n",
       "</table>\n",
       "<p>5 rows × 31 columns</p>\n",
       "</div>"
      ],
      "text/plain": [
       "         Event.Id Investigation.Type Accident.Number  Event.Date  \\\n",
       "0  20001218X45444           Accident      SEA87LA080  1948-10-24   \n",
       "1  20001218X45447           Accident      LAX94LA336  1962-07-19   \n",
       "2  20061025X01555           Accident      NYC07LA005  1974-08-30   \n",
       "3  20001218X45448           Accident      LAX96LA321  1977-06-19   \n",
       "4  20041105X01764           Accident      CHI79FA064  1979-08-02   \n",
       "\n",
       "          Location        Country Latitude Longitude Airport.Code  \\\n",
       "0  MOOSE CREEK, ID  United States      NaN       NaN          NaN   \n",
       "1   BRIDGEPORT, CA  United States      NaN       NaN          NaN   \n",
       "2    Saltville, VA  United States  36.9222  -81.8781          NaN   \n",
       "3       EUREKA, CA  United States      NaN       NaN          NaN   \n",
       "4       Canton, OH  United States      NaN       NaN          NaN   \n",
       "\n",
       "  Airport.Name  ... Purpose.of.flight Air.carrier Total.Fatal.Injuries  \\\n",
       "0          NaN  ...          Personal         NaN                  2.0   \n",
       "1          NaN  ...          Personal         NaN                  4.0   \n",
       "2          NaN  ...          Personal         NaN                  3.0   \n",
       "3          NaN  ...          Personal         NaN                  2.0   \n",
       "4          NaN  ...          Personal         NaN                  1.0   \n",
       "\n",
       "  Total.Serious.Injuries Total.Minor.Injuries Total.Uninjured  \\\n",
       "0                    0.0                  0.0             0.0   \n",
       "1                    0.0                  0.0             0.0   \n",
       "2                    NaN                  NaN             NaN   \n",
       "3                    0.0                  0.0             0.0   \n",
       "4                    2.0                  NaN             0.0   \n",
       "\n",
       "  Weather.Condition  Broad.phase.of.flight   Report.Status Publication.Date  \n",
       "0               UNK                 Cruise  Probable Cause              NaN  \n",
       "1               UNK                Unknown  Probable Cause       19-09-1996  \n",
       "2               IMC                 Cruise  Probable Cause       26-02-2007  \n",
       "3               IMC                 Cruise  Probable Cause       12-09-2000  \n",
       "4               VMC               Approach  Probable Cause       16-04-1980  \n",
       "\n",
       "[5 rows x 31 columns]"
      ]
     },
     "execution_count": 90,
     "metadata": {},
     "output_type": "execute_result"
    }
   ],
   "source": [
    "# Loading the data set\n",
    "aviation_data = pd.read_csv(\n",
    "    r\"C:\\Users\\Administrator\\Documents\\NickMoringaProject\\Phase1\\Assignments\\project phase 1\\practice-project-phase-1-\\AviationData.csv\",\n",
    "    encoding='latin1'  \n",
    ")\n",
    "# Display the first few rows of the DataFrame to understand its structure\n",
    "aviation_data.head()\n"
   ]
  },
  {
   "cell_type": "code",
   "execution_count": 91,
   "metadata": {},
   "outputs": [
    {
     "data": {
      "text/plain": [
       "(88889, 31)"
      ]
     },
     "execution_count": 91,
     "metadata": {},
     "output_type": "execute_result"
    }
   ],
   "source": [
    "#Shape of the DataFrame\n",
    "aviation_data.shape"
   ]
  },
  {
   "cell_type": "code",
   "execution_count": 92,
   "metadata": {},
   "outputs": [
    {
     "data": {
      "text/plain": [
       "Index(['EventId', 'InvestigationType', 'AccidentNumber', 'EventDate',\n",
       "       'Location', 'Country', 'Latitude', 'Longitude', 'AirportCode',\n",
       "       'AirportName', 'InjurySeverity', 'Aircraftdamage', 'AircraftCategory',\n",
       "       'RegistrationNumber', 'Make', 'Model', 'AmateurBuilt',\n",
       "       'NumberofEngines', 'EngineType', 'FARDescription', 'Schedule',\n",
       "       'Purposeofflight', 'Aircarrier', 'TotalFatalInjuries',\n",
       "       'TotalSeriousInjuries', 'TotalMinorInjuries', 'TotalUninjured',\n",
       "       'WeatherCondition', 'Broadphaseofflight', 'ReportStatus',\n",
       "       'PublicationDate'],\n",
       "      dtype='object')"
      ]
     },
     "execution_count": 92,
     "metadata": {},
     "output_type": "execute_result"
    }
   ],
   "source": [
    "#Replacing the . in the column names with  to make them more readable\n",
    "aviation_data.columns = aviation_data.columns.str.replace('.', '')\n",
    "# Dispkay column names to confirm the changes\n",
    "aviation_data.columns"
   ]
  },
  {
   "cell_type": "code",
   "execution_count": 93,
   "metadata": {},
   "outputs": [
    {
     "name": "stdout",
     "output_type": "stream",
     "text": [
      "<class 'pandas.core.frame.DataFrame'>\n",
      "RangeIndex: 88889 entries, 0 to 88888\n",
      "Data columns (total 31 columns):\n",
      " #   Column                Non-Null Count  Dtype  \n",
      "---  ------                --------------  -----  \n",
      " 0   EventId               88889 non-null  object \n",
      " 1   InvestigationType     88889 non-null  object \n",
      " 2   AccidentNumber        88889 non-null  object \n",
      " 3   EventDate             88889 non-null  object \n",
      " 4   Location              88837 non-null  object \n",
      " 5   Country               88663 non-null  object \n",
      " 6   Latitude              34382 non-null  object \n",
      " 7   Longitude             34373 non-null  object \n",
      " 8   AirportCode           50249 non-null  object \n",
      " 9   AirportName           52790 non-null  object \n",
      " 10  InjurySeverity        87889 non-null  object \n",
      " 11  Aircraftdamage        85695 non-null  object \n",
      " 12  AircraftCategory      32287 non-null  object \n",
      " 13  RegistrationNumber    87572 non-null  object \n",
      " 14  Make                  88826 non-null  object \n",
      " 15  Model                 88797 non-null  object \n",
      " 16  AmateurBuilt          88787 non-null  object \n",
      " 17  NumberofEngines       82805 non-null  float64\n",
      " 18  EngineType            81812 non-null  object \n",
      " 19  FARDescription        32023 non-null  object \n",
      " 20  Schedule              12582 non-null  object \n",
      " 21  Purposeofflight       82697 non-null  object \n",
      " 22  Aircarrier            16648 non-null  object \n",
      " 23  TotalFatalInjuries    77488 non-null  float64\n",
      " 24  TotalSeriousInjuries  76379 non-null  float64\n",
      " 25  TotalMinorInjuries    76956 non-null  float64\n",
      " 26  TotalUninjured        82977 non-null  float64\n",
      " 27  WeatherCondition      84397 non-null  object \n",
      " 28  Broadphaseofflight    61724 non-null  object \n",
      " 29  ReportStatus          82508 non-null  object \n",
      " 30  PublicationDate       75118 non-null  object \n",
      "dtypes: float64(5), object(26)\n",
      "memory usage: 21.0+ MB\n"
     ]
    }
   ],
   "source": [
    "# Getting information about the DataFrame\n",
    "aviation_data.info()"
   ]
  },
  {
   "cell_type": "code",
   "execution_count": 94,
   "metadata": {},
   "outputs": [
    {
     "data": {
      "text/plain": [
       "EventId                     0\n",
       "InvestigationType           0\n",
       "AccidentNumber              0\n",
       "EventDate                   0\n",
       "Location                   52\n",
       "Country                   226\n",
       "Latitude                54507\n",
       "Longitude               54516\n",
       "AirportCode             38640\n",
       "AirportName             36099\n",
       "InjurySeverity           1000\n",
       "Aircraftdamage           3194\n",
       "AircraftCategory        56602\n",
       "RegistrationNumber       1317\n",
       "Make                       63\n",
       "Model                      92\n",
       "AmateurBuilt              102\n",
       "NumberofEngines          6084\n",
       "EngineType               7077\n",
       "FARDescription          56866\n",
       "Schedule                76307\n",
       "Purposeofflight          6192\n",
       "Aircarrier              72241\n",
       "TotalFatalInjuries      11401\n",
       "TotalSeriousInjuries    12510\n",
       "TotalMinorInjuries      11933\n",
       "TotalUninjured           5912\n",
       "WeatherCondition         4492\n",
       "Broadphaseofflight      27165\n",
       "ReportStatus             6381\n",
       "PublicationDate         13771\n",
       "dtype: int64"
      ]
     },
     "execution_count": 94,
     "metadata": {},
     "output_type": "execute_result"
    }
   ],
   "source": [
    "# Check for missing values in the DataFrame\n",
    "aviation_data.isnull().sum()"
   ]
  },
  {
   "cell_type": "code",
   "execution_count": 95,
   "metadata": {},
   "outputs": [
    {
     "data": {
      "text/html": [
       "<div>\n",
       "<style scoped>\n",
       "    .dataframe tbody tr th:only-of-type {\n",
       "        vertical-align: middle;\n",
       "    }\n",
       "\n",
       "    .dataframe tbody tr th {\n",
       "        vertical-align: top;\n",
       "    }\n",
       "\n",
       "    .dataframe thead th {\n",
       "        text-align: right;\n",
       "    }\n",
       "</style>\n",
       "<table border=\"1\" class=\"dataframe\">\n",
       "  <thead>\n",
       "    <tr style=\"text-align: right;\">\n",
       "      <th></th>\n",
       "      <th>EventId</th>\n",
       "      <th>InvestigationType</th>\n",
       "      <th>AccidentNumber</th>\n",
       "      <th>EventDate</th>\n",
       "      <th>Location</th>\n",
       "      <th>Country</th>\n",
       "      <th>Latitude</th>\n",
       "      <th>Longitude</th>\n",
       "      <th>AirportCode</th>\n",
       "      <th>AirportName</th>\n",
       "      <th>...</th>\n",
       "      <th>Purposeofflight</th>\n",
       "      <th>Aircarrier</th>\n",
       "      <th>TotalFatalInjuries</th>\n",
       "      <th>TotalSeriousInjuries</th>\n",
       "      <th>TotalMinorInjuries</th>\n",
       "      <th>TotalUninjured</th>\n",
       "      <th>WeatherCondition</th>\n",
       "      <th>Broadphaseofflight</th>\n",
       "      <th>ReportStatus</th>\n",
       "      <th>PublicationDate</th>\n",
       "    </tr>\n",
       "  </thead>\n",
       "  <tbody>\n",
       "    <tr>\n",
       "      <th>0</th>\n",
       "      <td>20001218X45444</td>\n",
       "      <td>Accident</td>\n",
       "      <td>SEA87LA080</td>\n",
       "      <td>1948-10-24</td>\n",
       "      <td>MOOSE CREEK, ID</td>\n",
       "      <td>United States</td>\n",
       "      <td>unknown</td>\n",
       "      <td>unknown</td>\n",
       "      <td>unknown</td>\n",
       "      <td>unknown</td>\n",
       "      <td>...</td>\n",
       "      <td>Personal</td>\n",
       "      <td>unknown</td>\n",
       "      <td>2</td>\n",
       "      <td>0</td>\n",
       "      <td>0</td>\n",
       "      <td>0</td>\n",
       "      <td>unknown</td>\n",
       "      <td>Cruise</td>\n",
       "      <td>Probable Cause</td>\n",
       "      <td>unknown</td>\n",
       "    </tr>\n",
       "    <tr>\n",
       "      <th>1</th>\n",
       "      <td>20001218X45447</td>\n",
       "      <td>Accident</td>\n",
       "      <td>LAX94LA336</td>\n",
       "      <td>1962-07-19</td>\n",
       "      <td>BRIDGEPORT, CA</td>\n",
       "      <td>United States</td>\n",
       "      <td>unknown</td>\n",
       "      <td>unknown</td>\n",
       "      <td>unknown</td>\n",
       "      <td>unknown</td>\n",
       "      <td>...</td>\n",
       "      <td>Personal</td>\n",
       "      <td>unknown</td>\n",
       "      <td>4</td>\n",
       "      <td>0</td>\n",
       "      <td>0</td>\n",
       "      <td>0</td>\n",
       "      <td>unknown</td>\n",
       "      <td>Unknown</td>\n",
       "      <td>Probable Cause</td>\n",
       "      <td>19-09-1996</td>\n",
       "    </tr>\n",
       "    <tr>\n",
       "      <th>2</th>\n",
       "      <td>20061025X01555</td>\n",
       "      <td>Accident</td>\n",
       "      <td>NYC07LA005</td>\n",
       "      <td>1974-08-30</td>\n",
       "      <td>Saltville, VA</td>\n",
       "      <td>United States</td>\n",
       "      <td>36.9222</td>\n",
       "      <td>-81.8781</td>\n",
       "      <td>unknown</td>\n",
       "      <td>unknown</td>\n",
       "      <td>...</td>\n",
       "      <td>Personal</td>\n",
       "      <td>unknown</td>\n",
       "      <td>3</td>\n",
       "      <td>unknown</td>\n",
       "      <td>unknown</td>\n",
       "      <td>unknown</td>\n",
       "      <td>IMC</td>\n",
       "      <td>Cruise</td>\n",
       "      <td>Probable Cause</td>\n",
       "      <td>26-02-2007</td>\n",
       "    </tr>\n",
       "    <tr>\n",
       "      <th>3</th>\n",
       "      <td>20001218X45448</td>\n",
       "      <td>Accident</td>\n",
       "      <td>LAX96LA321</td>\n",
       "      <td>1977-06-19</td>\n",
       "      <td>EUREKA, CA</td>\n",
       "      <td>United States</td>\n",
       "      <td>unknown</td>\n",
       "      <td>unknown</td>\n",
       "      <td>unknown</td>\n",
       "      <td>unknown</td>\n",
       "      <td>...</td>\n",
       "      <td>Personal</td>\n",
       "      <td>unknown</td>\n",
       "      <td>2</td>\n",
       "      <td>0</td>\n",
       "      <td>0</td>\n",
       "      <td>0</td>\n",
       "      <td>IMC</td>\n",
       "      <td>Cruise</td>\n",
       "      <td>Probable Cause</td>\n",
       "      <td>12-09-2000</td>\n",
       "    </tr>\n",
       "    <tr>\n",
       "      <th>4</th>\n",
       "      <td>20041105X01764</td>\n",
       "      <td>Accident</td>\n",
       "      <td>CHI79FA064</td>\n",
       "      <td>1979-08-02</td>\n",
       "      <td>Canton, OH</td>\n",
       "      <td>United States</td>\n",
       "      <td>unknown</td>\n",
       "      <td>unknown</td>\n",
       "      <td>unknown</td>\n",
       "      <td>unknown</td>\n",
       "      <td>...</td>\n",
       "      <td>Personal</td>\n",
       "      <td>unknown</td>\n",
       "      <td>1</td>\n",
       "      <td>2</td>\n",
       "      <td>unknown</td>\n",
       "      <td>0</td>\n",
       "      <td>VMC</td>\n",
       "      <td>Approach</td>\n",
       "      <td>Probable Cause</td>\n",
       "      <td>16-04-1980</td>\n",
       "    </tr>\n",
       "  </tbody>\n",
       "</table>\n",
       "<p>5 rows × 31 columns</p>\n",
       "</div>"
      ],
      "text/plain": [
       "          EventId InvestigationType AccidentNumber   EventDate  \\\n",
       "0  20001218X45444          Accident     SEA87LA080  1948-10-24   \n",
       "1  20001218X45447          Accident     LAX94LA336  1962-07-19   \n",
       "2  20061025X01555          Accident     NYC07LA005  1974-08-30   \n",
       "3  20001218X45448          Accident     LAX96LA321  1977-06-19   \n",
       "4  20041105X01764          Accident     CHI79FA064  1979-08-02   \n",
       "\n",
       "          Location        Country Latitude Longitude AirportCode AirportName  \\\n",
       "0  MOOSE CREEK, ID  United States  unknown   unknown     unknown     unknown   \n",
       "1   BRIDGEPORT, CA  United States  unknown   unknown     unknown     unknown   \n",
       "2    Saltville, VA  United States  36.9222  -81.8781     unknown     unknown   \n",
       "3       EUREKA, CA  United States  unknown   unknown     unknown     unknown   \n",
       "4       Canton, OH  United States  unknown   unknown     unknown     unknown   \n",
       "\n",
       "   ... Purposeofflight Aircarrier TotalFatalInjuries TotalSeriousInjuries  \\\n",
       "0  ...        Personal    unknown                  2                    0   \n",
       "1  ...        Personal    unknown                  4                    0   \n",
       "2  ...        Personal    unknown                  3              unknown   \n",
       "3  ...        Personal    unknown                  2                    0   \n",
       "4  ...        Personal    unknown                  1                    2   \n",
       "\n",
       "  TotalMinorInjuries TotalUninjured WeatherCondition Broadphaseofflight  \\\n",
       "0                  0              0          unknown             Cruise   \n",
       "1                  0              0          unknown            Unknown   \n",
       "2            unknown        unknown              IMC             Cruise   \n",
       "3                  0              0              IMC             Cruise   \n",
       "4            unknown              0              VMC           Approach   \n",
       "\n",
       "     ReportStatus PublicationDate  \n",
       "0  Probable Cause         unknown  \n",
       "1  Probable Cause      19-09-1996  \n",
       "2  Probable Cause      26-02-2007  \n",
       "3  Probable Cause      12-09-2000  \n",
       "4  Probable Cause      16-04-1980  \n",
       "\n",
       "[5 rows x 31 columns]"
      ]
     },
     "execution_count": 95,
     "metadata": {},
     "output_type": "execute_result"
    }
   ],
   "source": [
    "#Filling missing values \n",
    "aviation_data = aviation_data.fillna(\"unknown\")\n",
    "aviation_data= aviation_data.replace(\"UNK\", \"unknown\")\n",
    "aviation_data= aviation_data.replace(\"N/A\", \"unknown\")\n",
    "aviation_data= aviation_data.replace(\"NAN\", \"unknown\")\n",
    "# Display the first few rows of the DataFrame to confirm changes\n",
    "aviation_data.head()"
   ]
  },
  {
   "cell_type": "code",
   "execution_count": 96,
   "metadata": {},
   "outputs": [
    {
     "name": "stdout",
     "output_type": "stream",
     "text": [
      "<class 'pandas.core.frame.DataFrame'>\n",
      "RangeIndex: 88889 entries, 0 to 88888\n",
      "Data columns (total 31 columns):\n",
      " #   Column                Non-Null Count  Dtype \n",
      "---  ------                --------------  ----- \n",
      " 0   EventId               88889 non-null  object\n",
      " 1   InvestigationType     88889 non-null  object\n",
      " 2   AccidentNumber        88889 non-null  object\n",
      " 3   EventDate             88889 non-null  object\n",
      " 4   Location              88889 non-null  object\n",
      " 5   Country               88889 non-null  object\n",
      " 6   Latitude              88889 non-null  object\n",
      " 7   Longitude             88889 non-null  object\n",
      " 8   AirportCode           88889 non-null  object\n",
      " 9   AirportName           88889 non-null  object\n",
      " 10  InjurySeverity        88889 non-null  object\n",
      " 11  Aircraftdamage        88889 non-null  object\n",
      " 12  AircraftCategory      88889 non-null  object\n",
      " 13  RegistrationNumber    88889 non-null  object\n",
      " 14  Make                  88889 non-null  object\n",
      " 15  Model                 88889 non-null  object\n",
      " 16  AmateurBuilt          88889 non-null  object\n",
      " 17  NumberofEngines       88889 non-null  object\n",
      " 18  EngineType            88889 non-null  object\n",
      " 19  FARDescription        88889 non-null  object\n",
      " 20  Schedule              88889 non-null  object\n",
      " 21  Purposeofflight       88889 non-null  object\n",
      " 22  Aircarrier            88889 non-null  object\n",
      " 23  TotalFatalInjuries    88889 non-null  object\n",
      " 24  TotalSeriousInjuries  88889 non-null  object\n",
      " 25  TotalMinorInjuries    88889 non-null  object\n",
      " 26  TotalUninjured        88889 non-null  object\n",
      " 27  WeatherCondition      88889 non-null  object\n",
      " 28  Broadphaseofflight    88889 non-null  object\n",
      " 29  ReportStatus          88889 non-null  object\n",
      " 30  PublicationDate       88889 non-null  object\n",
      "dtypes: object(31)\n",
      "memory usage: 21.0+ MB\n"
     ]
    }
   ],
   "source": [
    "#Getting the data info\n",
    "aviation_data.info()\n"
   ]
  },
  {
   "cell_type": "code",
   "execution_count": 97,
   "metadata": {},
   "outputs": [
    {
     "data": {
      "text/plain": [
       "EventId                     0\n",
       "InvestigationType           0\n",
       "AccidentNumber              0\n",
       "EventDate                   0\n",
       "Location                   52\n",
       "Country                   226\n",
       "Latitude                54507\n",
       "Longitude               54516\n",
       "AirportCode             38659\n",
       "AirportName             36109\n",
       "InjurySeverity           1000\n",
       "Aircraftdamage           3194\n",
       "AircraftCategory        56604\n",
       "RegistrationNumber       1336\n",
       "Make                       64\n",
       "Model                      96\n",
       "AmateurBuilt              102\n",
       "NumberofEngines          6084\n",
       "EngineType               7078\n",
       "FARDescription          57237\n",
       "Schedule                80406\n",
       "Purposeofflight          6192\n",
       "Aircarrier              72242\n",
       "TotalFatalInjuries      11401\n",
       "TotalSeriousInjuries    12510\n",
       "TotalMinorInjuries      11933\n",
       "TotalUninjured           5912\n",
       "WeatherCondition         5348\n",
       "Broadphaseofflight      27165\n",
       "ReportStatus             6381\n",
       "PublicationDate         13771\n",
       "dtype: int64"
      ]
     },
     "execution_count": 97,
     "metadata": {},
     "output_type": "execute_result"
    }
   ],
   "source": [
    "#Find unknown values in the whole data set\n",
    "aviation_data.isin(['unknown']).sum()\n"
   ]
  },
  {
   "cell_type": "code",
   "execution_count": 98,
   "metadata": {},
   "outputs": [
    {
     "data": {
      "text/plain": [
       "EventId                 87951\n",
       "InvestigationType           2\n",
       "AccidentNumber          88863\n",
       "EventDate               14782\n",
       "Location                27759\n",
       "Country                   220\n",
       "Latitude                25593\n",
       "Longitude               27157\n",
       "AirportCode             10375\n",
       "AirportName             24871\n",
       "InjurySeverity            110\n",
       "Aircraftdamage              5\n",
       "AircraftCategory           15\n",
       "RegistrationNumber      79104\n",
       "Make                     8237\n",
       "Model                   12317\n",
       "AmateurBuilt                3\n",
       "NumberofEngines             8\n",
       "EngineType                 13\n",
       "FARDescription             31\n",
       "Schedule                    3\n",
       "Purposeofflight            27\n",
       "Aircarrier              13590\n",
       "TotalFatalInjuries        126\n",
       "TotalSeriousInjuries       51\n",
       "TotalMinorInjuries         58\n",
       "TotalUninjured            380\n",
       "WeatherCondition            4\n",
       "Broadphaseofflight         13\n",
       "ReportStatus            17076\n",
       "PublicationDate          2925\n",
       "dtype: int64"
      ]
     },
     "execution_count": 98,
     "metadata": {},
     "output_type": "execute_result"
    }
   ],
   "source": [
    "#Finding the unique values in the data set\n",
    "aviation_data.nunique()\n"
   ]
  },
  {
   "cell_type": "markdown",
   "metadata": {},
   "source": [
    "## Finding corelation between different variables to derive inferences\n"
   ]
  },
  {
   "cell_type": "markdown",
   "metadata": {},
   "source": [
    "## 1. Does the number of engine have an impact in the investigation type and Number of Fatalities\n"
   ]
  },
  {
   "cell_type": "code",
   "execution_count": 99,
   "metadata": {},
   "outputs": [
    {
     "data": {
      "text/plain": [
       "InvestigationType\n",
       "Accident    85015\n",
       "Incident     3874\n",
       "dtype: int64"
      ]
     },
     "execution_count": 99,
     "metadata": {},
     "output_type": "execute_result"
    }
   ],
   "source": [
    "#Grouping the data by unique values in the column 'investigationType'\n",
    "aviation_data.groupby('InvestigationType').size()"
   ]
  },
  {
   "cell_type": "code",
   "execution_count": 100,
   "metadata": {},
   "outputs": [
    {
     "data": {
      "text/plain": [
       "array([1.0, 'unknown', 2.0, 0.0, 3.0, 4.0, 8.0, 6.0], dtype=object)"
      ]
     },
     "execution_count": 100,
     "metadata": {},
     "output_type": "execute_result"
    }
   ],
   "source": [
    "#Fidning the unique values in the 'Number of Engines' column    \n",
    "aviation_data['NumberofEngines'].unique()  "
   ]
  },
  {
   "cell_type": "code",
   "execution_count": 101,
   "metadata": {},
   "outputs": [
    {
     "data": {
      "text/plain": [
       "array([1.0, 2.0, 0.0, 3.0, 4.0, 8.0, 6.0], dtype=object)"
      ]
     },
     "execution_count": 101,
     "metadata": {},
     "output_type": "execute_result"
    }
   ],
   "source": [
    "#Dropping unknown values in the 'Number of Engines' column\n",
    "aviation_data = aviation_data[aviation_data['NumberofEngines'] != 'unknown']\n",
    "#Checking the unique values in the 'Number of Engines' column again\n",
    "aviation_data['NumberofEngines'].unique()\n",
    "#Dropping nan values in the 'Number of Engines' column\n",
    "aviation_data = aviation_data.dropna(subset=['NumberofEngines'])\n",
    "#Checking the unique values in the 'Number of Engines' column again\n",
    "aviation_data['NumberofEngines'].unique()\n",
    "\n"
   ]
  },
  {
   "cell_type": "code",
   "execution_count": 102,
   "metadata": {},
   "outputs": [
    {
     "data": {
      "text/html": [
       "<div>\n",
       "<style scoped>\n",
       "    .dataframe tbody tr th:only-of-type {\n",
       "        vertical-align: middle;\n",
       "    }\n",
       "\n",
       "    .dataframe tbody tr th {\n",
       "        vertical-align: top;\n",
       "    }\n",
       "\n",
       "    .dataframe thead th {\n",
       "        text-align: right;\n",
       "    }\n",
       "</style>\n",
       "<table border=\"1\" class=\"dataframe\">\n",
       "  <thead>\n",
       "    <tr style=\"text-align: right;\">\n",
       "      <th></th>\n",
       "      <th>NumberofEngines</th>\n",
       "      <th>InvestigationType</th>\n",
       "    </tr>\n",
       "  </thead>\n",
       "  <tbody>\n",
       "    <tr>\n",
       "      <th>0</th>\n",
       "      <td>1</td>\n",
       "      <td>Accident</td>\n",
       "    </tr>\n",
       "    <tr>\n",
       "      <th>1</th>\n",
       "      <td>1</td>\n",
       "      <td>Accident</td>\n",
       "    </tr>\n",
       "    <tr>\n",
       "      <th>2</th>\n",
       "      <td>1</td>\n",
       "      <td>Accident</td>\n",
       "    </tr>\n",
       "    <tr>\n",
       "      <th>3</th>\n",
       "      <td>1</td>\n",
       "      <td>Accident</td>\n",
       "    </tr>\n",
       "    <tr>\n",
       "      <th>5</th>\n",
       "      <td>2</td>\n",
       "      <td>Accident</td>\n",
       "    </tr>\n",
       "    <tr>\n",
       "      <th>6</th>\n",
       "      <td>1</td>\n",
       "      <td>Accident</td>\n",
       "    </tr>\n",
       "    <tr>\n",
       "      <th>7</th>\n",
       "      <td>1</td>\n",
       "      <td>Accident</td>\n",
       "    </tr>\n",
       "    <tr>\n",
       "      <th>8</th>\n",
       "      <td>2</td>\n",
       "      <td>Accident</td>\n",
       "    </tr>\n",
       "    <tr>\n",
       "      <th>9</th>\n",
       "      <td>1</td>\n",
       "      <td>Accident</td>\n",
       "    </tr>\n",
       "    <tr>\n",
       "      <th>10</th>\n",
       "      <td>1</td>\n",
       "      <td>Accident</td>\n",
       "    </tr>\n",
       "  </tbody>\n",
       "</table>\n",
       "</div>"
      ],
      "text/plain": [
       "   NumberofEngines InvestigationType\n",
       "0                1          Accident\n",
       "1                1          Accident\n",
       "2                1          Accident\n",
       "3                1          Accident\n",
       "5                2          Accident\n",
       "6                1          Accident\n",
       "7                1          Accident\n",
       "8                2          Accident\n",
       "9                1          Accident\n",
       "10               1          Accident"
      ]
     },
     "execution_count": 102,
     "metadata": {},
     "output_type": "execute_result"
    }
   ],
   "source": [
    "#Find relation between number of engines and the investigation type\n",
    "# Create a new DataFrame with the relevant columns\n",
    "accidents_data = aviation_data[['NumberofEngines', 'InvestigationType']].copy()\n",
    "# Display the first few rows of the new DataFrame\n",
    "accidents_data.head(10)\n"
   ]
  },
  {
   "cell_type": "code",
   "execution_count": 103,
   "metadata": {},
   "outputs": [
    {
     "name": "stdout",
     "output_type": "stream",
     "text": [
      "   NumberofEngines InvestigationType  Count\n",
      "0              0.0          Accident   1205\n",
      "1              0.0          Incident     21\n",
      "2              1.0          Accident  69069\n",
      "3              1.0          Incident    513\n",
      "4              2.0          Accident   9405\n",
      "5              2.0          Incident   1674\n",
      "6              3.0          Accident    207\n",
      "7              3.0          Incident    276\n",
      "8              4.0          Accident    225\n",
      "9              4.0          Incident    206\n"
     ]
    }
   ],
   "source": [
    "# Group the data by 'Number of Engines' and 'Investigation Type'\n",
    "grouped_data = accidents_data.groupby(['NumberofEngines', 'InvestigationType']).size().reset_index(name='Count')\n",
    "# Display the grouped data\n",
    "print(grouped_data.head(10))\n"
   ]
  },
  {
   "cell_type": "code",
   "execution_count": 104,
   "metadata": {},
   "outputs": [
    {
     "data": {
      "image/png": "[encoded data removed]",
      "text/plain": [
       "<Figure size 720x432 with 2 Axes>"
      ]
     },
     "metadata": {
      "needs_background": "light"
     },
     "output_type": "display_data"
    }
   ],
   "source": [
    "#Creating a pivot table to visualize the relationship between 'Number of Engines' and 'Investigation Type'\n",
    "pivot_table = pd.pivot_table(grouped_data, values='Count', index='NumberofEngines', columns='InvestigationType', fill_value=0)\n",
    "# Display the pivot table as a heatmap\n",
    "plt.figure(figsize=(10, 6))\n",
    "sns.heatmap(pivot_table, annot=True, fmt='d', cmap='YlGnBu')\n",
    "plt.title('Number of Engines vs Investigation Type')\n",
    "plt.xlabel('Investigation Type')\n",
    "plt.ylabel('Number of Engines')\n",
    "plt.xticks(rotation=45)\n",
    "plt.tight_layout()\n",
    "plt.show()"
   ]
  },
  {
   "cell_type": "markdown",
   "metadata": {},
   "source": [
    "From this findings, we can clearly see that the more the enginges in a plane the less occurence of accidents and incidents thus have a recommendation to purchase aircrafts with more than two engines."
   ]
  },
  {
   "cell_type": "code",
   "execution_count": 105,
   "metadata": {},
   "outputs": [
    {
     "name": "stdout",
     "output_type": "stream",
     "text": [
      "   NumberofEngines  TotalFatalInjuries\n",
      "0              0.0               409.0\n",
      "1              1.0             22131.0\n",
      "2              2.0             10521.0\n",
      "3              3.0               878.0\n",
      "4              4.0              1666.0\n",
      "5              6.0                 0.0\n",
      "6              8.0                 0.0\n",
      "   NumberofEngines  TotalFatalInjuries\n",
      "0              0.0               409.0\n",
      "1              1.0             22131.0\n",
      "2              2.0             10521.0\n",
      "3              3.0               878.0\n",
      "4              4.0              1666.0\n",
      "5              6.0                 0.0\n",
      "6              8.0                 0.0\n"
     ]
    }
   ],
   "source": [
    "# Find the relationship between number of engines and the total fatalities\n",
    "# Create a new DataFrame with the relevant columns\n",
    "accidents_data_fatalities = aviation_data[['NumberofEngines', 'TotalFatalInjuries']].copy()\n",
    "# Convert TotalFatalInjuries to numeric, coercing errors to NaN\n",
    "aviation_data['TotalFatalInjuries'] = pd.to_numeric(aviation_data['TotalFatalInjuries'], errors='coerce')\n",
    "\n",
    "# Remove rows with NaN or non-numeric 'NumberofEngines'\n",
    "aviation_data = aviation_data.loc[pd.to_numeric(aviation_data['NumberofEngines'], errors='coerce').notnull()]\n",
    "\n",
    "# Convert NumberofEngines to numeric\n",
    "aviation_data.loc['NumberofEngines'] = pd.to_numeric(aviation_data['NumberofEngines'])\n",
    "\n",
    "# Proceed with analysis\n",
    "accidents_data_fatalities = aviation_data[['NumberofEngines', 'TotalFatalInjuries']].copy()\n",
    "grouped_data_fatalities = accidents_data_fatalities.groupby(['NumberofEngines']).sum().reset_index()\n",
    "print(grouped_data_fatalities.head(10))\n",
    "\n",
    "#Group the data by 'Number of Engines' and 'Total Fatal Injuries'\n",
    "grouped_data_fatalities = accidents_data_fatalities.groupby(['NumberofEngines']).sum().reset_index()\n",
    "# Display the grouped data\n",
    "print(grouped_data_fatalities.head(10))\n"
   ]
  },
  {
   "cell_type": "code",
   "execution_count": 106,
   "metadata": {},
   "outputs": [
    {
     "data": {
      "image/png": "[encoded data removed]",
      "text/plain": [
       "<Figure size 720x432 with 1 Axes>"
      ]
     },
     "metadata": {
      "needs_background": "light"
     },
     "output_type": "display_data"
    }
   ],
   "source": [
    "#Visualizing the relationship between number of engines and total fatalities\n",
    "plt.figure(figsize=(10, 6))\n",
    "plt.bar(grouped_data_fatalities['NumberofEngines'], grouped_data_fatalities['TotalFatalInjuries'], color='skyblue')\n",
    "plt.title('Number of Engines vs Total Fatal Injuries')\n",
    "plt.xlabel('Number of Engines')\n",
    "plt.ylabel('Total Fatal Injuries')\n",
    "plt.xticks(rotation=45)\n",
    "plt.tight_layout()\n",
    "plt.show()"
   ]
  },
  {
   "cell_type": "markdown",
   "metadata": {},
   "source": [
    "From the data above , aircrafts with one engine are not advisable to purchase since their fatality rate is the highest"
   ]
  },
  {
   "cell_type": "markdown",
   "metadata": {},
   "source": [
    "## 2. Aircraft category and Aircraft damage against total fatalities\n"
   ]
  },
  {
   "cell_type": "code",
   "execution_count": 107,
   "metadata": {},
   "outputs": [
    {
     "data": {
      "text/plain": [
       "AircraftCategory\n",
       "Airplane             24863\n",
       "Balloon                166\n",
       "Blimp                    4\n",
       "Glider                 431\n",
       "Gyrocraft              168\n",
       "Helicopter            2912\n",
       "Powered Parachute       87\n",
       "Powered-Lift             4\n",
       "Rocket                   1\n",
       "ULTR                     1\n",
       "Ultralight              26\n",
       "Unknown                  4\n",
       "WSFT                     9\n",
       "Weight-Shift           154\n",
       "unknown              53975\n",
       "dtype: int64"
      ]
     },
     "execution_count": 107,
     "metadata": {},
     "output_type": "execute_result"
    }
   ],
   "source": [
    "# Group data by unique values in the colum AircraftCategory\n",
    "aviation_data.groupby('AircraftCategory').size()\n"
   ]
  },
  {
   "cell_type": "code",
   "execution_count": 108,
   "metadata": {},
   "outputs": [
    {
     "data": {
      "text/plain": [
       "array(['Airplane', 'Helicopter', 'Glider', 'Balloon', 'Gyrocraft',\n",
       "       'Ultralight', 'Blimp', 'Powered-Lift', 'Weight-Shift',\n",
       "       'Powered Parachute', 'Rocket', 'WSFT', 'ULTR'], dtype=object)"
      ]
     },
     "execution_count": 108,
     "metadata": {},
     "output_type": "execute_result"
    }
   ],
   "source": [
    "#Removing unknown values in the 'Aircraft Category' column\n",
    "aviation_data = aviation_data[aviation_data['AircraftCategory'] != 'unknown']\n",
    "aviation_data = aviation_data[aviation_data['AircraftCategory'] != 'Unknown']\n",
    "aviation_data = aviation_data.dropna(subset=['AircraftCategory'])\n",
    "#Checking the unique values in the 'Aircraft Category' column again\n",
    "aviation_data['AircraftCategory'].unique()\n"
   ]
  },
  {
   "cell_type": "code",
   "execution_count": 109,
   "metadata": {},
   "outputs": [
    {
     "data": {
      "text/plain": [
       "array(['Substantial', 'Destroyed', 'Minor', 'unknown', 'Unknown'],\n",
       "      dtype=object)"
      ]
     },
     "execution_count": 109,
     "metadata": {},
     "output_type": "execute_result"
    }
   ],
   "source": [
    "#Finding the unique values in the 'Aircraft Damage' column\n",
    "aviation_data['Aircraftdamage'].unique()\n"
   ]
  },
  {
   "cell_type": "code",
   "execution_count": 110,
   "metadata": {},
   "outputs": [
    {
     "data": {
      "text/plain": [
       "array(['Substantial', 'Destroyed', 'Minor'], dtype=object)"
      ]
     },
     "execution_count": 110,
     "metadata": {},
     "output_type": "execute_result"
    }
   ],
   "source": [
    "#Dropping unknown values in the 'Aircraft Damage' column\n",
    "aviation_data = aviation_data[aviation_data['Aircraftdamage'] != 'unknown']\n",
    "aviation_data = aviation_data[aviation_data['Aircraftdamage'] != 'Unknown']\n",
    "aviation_data = aviation_data.dropna(subset=['Aircraftdamage'])\n",
    "#Checking the unique values in the 'Aircraft Damage' column again\n",
    "aviation_data['Aircraftdamage'].unique()"
   ]
  },
  {
   "cell_type": "code",
   "execution_count": 111,
   "metadata": {},
   "outputs": [
    {
     "name": "stdout",
     "output_type": "stream",
     "text": [
      "   Aircraftdamage AircraftCategory\n",
      "5     Substantial         Airplane\n",
      "7     Substantial         Airplane\n",
      "8     Substantial         Airplane\n",
      "12      Destroyed         Airplane\n",
      "13      Destroyed         Airplane\n",
      "14      Destroyed         Airplane\n",
      "15      Destroyed         Airplane\n",
      "16      Destroyed       Helicopter\n",
      "17      Destroyed         Airplane\n",
      "18    Substantial         Airplane\n"
     ]
    }
   ],
   "source": [
    "#Finding relation between 'Aircraft Damage' and 'Aircraft Category'\n",
    "# Create a new DataFrame with the relevant columns\n",
    "accidents_data = aviation_data[['Aircraftdamage', 'AircraftCategory']].copy()\n",
    "# Display the first few rows of the new DataFrame\n",
    "print(accidents_data.head(10))"
   ]
  },
  {
   "cell_type": "code",
   "execution_count": 112,
   "metadata": {},
   "outputs": [
    {
     "name": "stdout",
     "output_type": "stream",
     "text": [
      "  Aircraftdamage   AircraftCategory  Count\n",
      "0      Destroyed           Airplane   2895\n",
      "1      Destroyed            Balloon     11\n",
      "2      Destroyed              Blimp      1\n",
      "3      Destroyed             Glider     27\n",
      "4      Destroyed          Gyrocraft     25\n",
      "5      Destroyed         Helicopter    401\n",
      "6      Destroyed  Powered Parachute      4\n",
      "7      Destroyed       Powered-Lift      1\n",
      "8      Destroyed             Rocket      1\n",
      "9      Destroyed         Ultralight      5\n"
     ]
    }
   ],
   "source": [
    "#Group the data by 'Aircraft Damage' and 'Aircraft Category'\n",
    "grouped_data = accidents_data.groupby(['Aircraftdamage', 'AircraftCategory']).size().reset_index(name='Count')\n",
    "# Display the grouped data\n",
    "print(grouped_data.head(10))"
   ]
  },
  {
   "cell_type": "code",
   "execution_count": 113,
   "metadata": {},
   "outputs": [
    {
     "name": "stdout",
     "output_type": "stream",
     "text": [
      "Airplane             24094\n",
      "Helicopter            2871\n",
      "Glider                 427\n",
      "Gyrocraft              168\n",
      "Weight-Shift           153\n",
      "Balloon                100\n",
      "Powered Parachute       84\n",
      "Ultralight              25\n",
      "WSFT                     9\n",
      "Blimp                    4\n",
      "Name: AircraftCategory, dtype: int64\n"
     ]
    }
   ],
   "source": [
    "#Find top 10 aircraft categories with the most accidents\n",
    "top_10_aircraft_categories = aviation_data['AircraftCategory'].value_counts().head(10)\n",
    "# Display the top 10 aircraft categories\n",
    "print(top_10_aircraft_categories)"
   ]
  },
  {
   "cell_type": "code",
   "execution_count": 114,
   "metadata": {},
   "outputs": [
    {
     "name": "stdout",
     "output_type": "stream",
     "text": [
      "Gyrocraft            168\n",
      "Weight-Shift         153\n",
      "Balloon              100\n",
      "Powered Parachute     84\n",
      "Ultralight            25\n",
      "WSFT                   9\n",
      "Blimp                  4\n",
      "Powered-Lift           3\n",
      "Rocket                 1\n",
      "ULTR                   1\n",
      "Name: AircraftCategory, dtype: int64\n"
     ]
    }
   ],
   "source": [
    "#Find bottom 10 aircraft categories with the most accidents\n",
    "bottom_10_aircraft_categories = aviation_data['AircraftCategory'].value_counts().tail(10)\n",
    "# Display the bottom 10 aircraft categories\n",
    "print(bottom_10_aircraft_categories)"
   ]
  },
  {
   "cell_type": "code",
   "execution_count": 115,
   "metadata": {},
   "outputs": [
    {
     "data": {
      "image/png": "[encoded data removed]",
      "text/plain": [
       "<Figure size 864x432 with 1 Axes>"
      ]
     },
     "metadata": {
      "needs_background": "light"
     },
     "output_type": "display_data"
    }
   ],
   "source": [
    "#Create a bar plot to visualize the relationship between 'Aircraft Damage' and 'Aircraft Category'\n",
    "plt.figure(figsize=(12, 6))\n",
    "sns.countplot(data=aviation_data, x='AircraftCategory', hue='Aircraftdamage', palette='Set2')\n",
    "plt.title('Aircraft Damage by Aircraft Category')\n",
    "plt.xlabel('Aircraft Category')\n",
    "plt.ylabel('Count')\n",
    "plt.xticks(rotation=45)\n",
    "plt.legend(title='Aircraft Damage')\n",
    "plt.tight_layout()\n",
    "plt.show()\n"
   ]
  },
  {
   "cell_type": "code",
   "execution_count": 116,
   "metadata": {},
   "outputs": [
    {
     "data": {
      "text/plain": [
       "AircraftCategory\n",
       "Airplane             10105.0\n",
       "Balloon                 16.0\n",
       "Blimp                    0.0\n",
       "Glider                  65.0\n",
       "Gyrocraft               42.0\n",
       "Helicopter            1096.0\n",
       "Powered Parachute       12.0\n",
       "Powered-Lift             0.0\n",
       "Rocket                   1.0\n",
       "ULTR                     0.0\n",
       "Ultralight               6.0\n",
       "WSFT                    10.0\n",
       "Weight-Shift            65.0\n",
       "Name: TotalFatalInjuries, dtype: float64"
      ]
     },
     "execution_count": 116,
     "metadata": {},
     "output_type": "execute_result"
    }
   ],
   "source": [
    "#Group data by Aircarft category and the total fatalities\n",
    "aviation_data.groupby('AircraftCategory').size()\n",
    "aviation_data.groupby('TotalFatalInjuries').size()\n",
    "aviation_data.groupby('AircraftCategory').sum()['TotalFatalInjuries']"
   ]
  },
  {
   "cell_type": "markdown",
   "metadata": {},
   "source": [
    "From this data , we can conclude that airplanes carry the highest risk factor as it has recorded high number of fatalities as compared to other aircraft categories."
   ]
  },
  {
   "cell_type": "markdown",
   "metadata": {},
   "source": [
    "## 3. Make and Model and Total Fatal Injuries"
   ]
  },
  {
   "cell_type": "code",
   "execution_count": 117,
   "metadata": {},
   "outputs": [
    {
     "name": "stdout",
     "output_type": "stream",
     "text": [
      "        Make Model  Accident_Count\n",
      "2182  CESSNA   172             420\n",
      "2777  Cessna   172             368\n",
      "2766  Cessna   152             253\n",
      "2206  CESSNA  172S             177\n",
      "2174  CESSNA   152             176\n",
      "2230  CESSNA   182             159\n",
      "2202  CESSNA  172N             156\n",
      "2802  Cessna  172N             152\n",
      "2832  Cessna   182             146\n",
      "6709   PIPER  PA28             146\n"
     ]
    }
   ],
   "source": [
    "# Selecting make and model columns\n",
    "make_model_data = aviation_data[['Make', 'Model']]\n",
    "# how many times each pair (make and model) appears in an accidents.\n",
    "make_model_counts = make_model_data.groupby(['Make', 'Model']).size().reset_index(name='Accident_Count')\n",
    "\n",
    "# Sorting Accident_Count from highest to lowest\n",
    "make_model_counts = make_model_counts.sort_values(by='Accident_Count', ascending=False)\n",
    "\n",
    "#top 10 accident-prone Make-Model combinations\n",
    "top_10_make_model = make_model_counts.head(10)\n",
    "# Display the top 10 accident-prone Make-Model combinations\n",
    "print(top_10_make_model)\n"
   ]
  },
  {
   "cell_type": "code",
   "execution_count": 127,
   "metadata": {},
   "outputs": [],
   "source": [
    "# Normalize Make column BEFORE grouping\n",
    "aviation_data['Make'] = aviation_data['Make'].str.upper()\n",
    "\n",
    "# Group by Make and Model\n",
    "make_model_counts = aviation_data.groupby(['Make', 'Model']).size().reset_index(name='Accident_Count')\n",
    "\n",
    "# Sort and get top 10\n",
    "top_10_make_model = make_model_counts.sort_values(by='Accident_Count', ascending=False).head(10)\n"
   ]
  },
  {
   "cell_type": "code",
   "execution_count": 128,
   "metadata": {},
   "outputs": [
    {
     "data": {
      "image/png": "[encoded data removed]",
      "text/plain": [
       "<Figure size 864x432 with 1 Axes>"
      ]
     },
     "metadata": {
      "needs_background": "light"
     },
     "output_type": "display_data"
    }
   ],
   "source": [
    "plt.figure(figsize=(12, 6))\n",
    "plt.barh(\n",
    "    top_10_make_model['Make'] + ' ' + top_10_make_model['Model'],\n",
    "    top_10_make_model['Accident_Count'],\n",
    "    color='skyblue'\n",
    ")\n",
    "plt.title('Top 10 Accident-Prone Make-Model Combinations')\n",
    "plt.xlabel('Accident Count')\n",
    "plt.ylabel('Make and Model')\n",
    "plt.tight_layout()\n",
    "plt.show()\n"
   ]
  },
  {
   "cell_type": "markdown",
   "metadata": {},
   "source": [
    "From above graph , we conclude that the Cessna make 172 recorded the highest number of accident count thereby rendering it not safe as compared to other models which ranked top 10 prone to accidents."
   ]
  },
  {
   "cell_type": "code",
   "execution_count": 119,
   "metadata": {},
   "outputs": [
    {
     "name": "stdout",
     "output_type": "stream",
     "text": [
      "                                Make         Model  Accident_Count\n",
      "3893  Ercoupe (eng & Research Corp.)  Ercoupe 415C               1\n",
      "3892  Ercoupe (eng & Research Corp.)          415G               1\n",
      "3891  Ercoupe (eng & Research Corp.)          415D               1\n",
      "3889  Ercoupe (eng & Research Corp.)        415-CD               1\n",
      "3887  Ercoupe (Eng & Research Corp.)         415-D               1\n",
      "3885                         Ercoupe           F 1               1\n",
      "3884                         Ercoupe    ERCO-415-E               1\n",
      "3883                         Ercoupe          415D               1\n",
      "3881                         Ercoupe         415-G               1\n",
      "4652                    HEMP TIMOTHY    LEGACY 200               1\n"
     ]
    }
   ],
   "source": [
    "# Bottom 10 accident-prone Make-Model combinations\n",
    "bottom_10_make_model = make_model_counts.tail(10)\n",
    "# Display the bottom 10 accident-prone Make-Model combinations\n",
    "print(bottom_10_make_model)\n"
   ]
  },
  {
   "cell_type": "code",
   "execution_count": 120,
   "metadata": {},
   "outputs": [
    {
     "data": {
      "image/png": "[encoded data removed]",
      "text/plain": [
       "<Figure size 864x432 with 1 Axes>"
      ]
     },
     "metadata": {
      "needs_background": "light"
     },
     "output_type": "display_data"
    }
   ],
   "source": [
    "#Visualize the above data \n",
    "plt.figure(figsize=(12, 6))\n",
    "plt.barh(bottom_10_make_model['Make'] + ' ' + bottom_10_make_model['Model'], bottom_10_make_model['Accident_Count'], color='salmon')\n",
    "plt.title('Bottom 10 Accident-Prone Make-Model Combinations')\n",
    "plt.xlabel('Accident Count')\n",
    "plt.ylabel('Make and Model')\n",
    "plt.tight_layout()\n",
    "plt.show()"
   ]
  },
  {
   "cell_type": "markdown",
   "metadata": {},
   "source": [
    "We can conclude that all 10 aircraft model which featured on bottom 10 least prone to accidents are equal since all aircrafts had the same accident count."
   ]
  },
  {
   "cell_type": "code",
   "execution_count": 129,
   "metadata": {},
   "outputs": [],
   "source": [
    "aviation_data.to_csv(\"cleaned_aviation_data.csv\", index=False, encoding='utf-8')\n"
   ]
  }
 ],
 "metadata": {
  "kernelspec": {
   "display_name": "learn-env",
   "language": "python",
   "name": "python3"
  },
  "language_info": {
   "codemirror_mode": {
    "name": "ipython",
    "version": 3
   },
   "file_extension": ".py",
   "mimetype": "text/x-python",
   "name": "python",
   "nbconvert_exporter": "python",
   "pygments_lexer": "ipython3",
   "version": "3.8.5"
  }
 },
 "nbformat": 4,
 "nbformat_minor": 4
}
